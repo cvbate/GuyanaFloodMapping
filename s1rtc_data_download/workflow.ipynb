{
 "cells": [
  {
   "cell_type": "markdown",
   "id": "ab0905ca-7157-4a64-8ac1-2c935ac412c6",
   "metadata": {},
   "source": [
    "# Sentinel 1 RTC product query and download"
   ]
  },
  {
   "cell_type": "markdown",
   "id": "d78068d6-b893-4f24-99d8-437dd8f92dba",
   "metadata": {},
   "source": [
    "### Imports"
   ]
  },
  {
   "cell_type": "code",
   "execution_count": null,
   "id": "2a131aef-af57-4bcd-b9a7-853e74bd9ec7",
   "metadata": {},
   "outputs": [],
   "source": [
    "# importing necessary modules\n",
    "import os\n",
    "import sys\n",
    "from pathlib import Path"
   ]
  },
  {
   "cell_type": "code",
   "execution_count": null,
   "id": "3add9cb7-1e3c-4b7b-8457-b6243181c58c",
   "metadata": {},
   "outputs": [],
   "source": [
    "# Specify the path to the package\n",
    "current_pth = os.getcwd()\n",
    "pkg_path = os.path.dirname(current_pth)"
   ]
  },
  {
   "cell_type": "code",
   "execution_count": null,
   "id": "c183182a-690d-4282-bf40-0e0dcc6272d6",
   "metadata": {},
   "outputs": [],
   "source": [
    "# Adding the path to the package to the system path\n",
    "sys.path.insert(0, os.path.join(pkg_path, 's1_rtc/'))\n",
    "sys.path.insert(0, pkg_path)"
   ]
  },
  {
   "cell_type": "code",
   "execution_count": null,
   "id": "f2ceac37-af0d-42a1-b4e0-8f19afb704ba",
   "metadata": {},
   "outputs": [],
   "source": [
    "# Importing the s1_rtc package\n",
    "import importlib\n",
    "import s1_rtc\n",
    "importlib.reload(s1_rtc)\n",
    "from s1_rtc import *"
   ]
  },
  {
   "cell_type": "markdown",
   "id": "f0ff422a-ee28-4d10-a259-77f7a2ba9321",
   "metadata": {},
   "source": [
    "### Config"
   ]
  },
  {
   "cell_type": "code",
   "execution_count": null,
   "id": "27af3739-d2ae-434a-9c5c-3518895b9b9d",
   "metadata": {},
   "outputs": [],
   "source": [
    "# Data query parameters\n",
    "aoi_path = \"/home/jovyan/advRS/studyArea/studyArea_wetlands.geojson\"\n",
    "stac_catalog = 'https://planetarycomputer.microsoft.com/api/stac/v1'\n",
    "query_range = \"2016-01-01/2022-12-31\"\n",
    "collection = 'sentinel-1-rtc'\n",
    "\n",
    "# Data filter parameters\n",
    "start_date = \"2019-01-01\"\n",
    "end_date = \"2019-12-31\"\n",
    "spatial_cover = 70 # Enter a value based on the spatial cover distribution\n",
    "orbit = \"desc\" # \"asce\" or \"desc\" to get all descending images. The later date (e.g. 07-28 vs 07-29) is descending with sentinel-1A\n",
    "\n",
    "# Data download parameters\n",
    "download_bands = [\"vv\", \"vh\"]\n",
    "save_path_rtc = \"/home/jovyan/advRS/rtc_data/\"\n",
    "noData = True # Handle nodata value in the raster, if Ture all nodata set to 0\n",
    "crs = \"epsg:32621\" # Projecting to crs\n",
    "clip_to_aoi = True # Clipping rasters to area of interest"
   ]
  },
  {
   "cell_type": "markdown",
   "id": "9b06aaa2-f072-4e00-a7e2-47c8a65bd0f4",
   "metadata": {},
   "source": [
    "### Download"
   ]
  },
  {
   "cell_type": "code",
   "execution_count": null,
   "id": "45f2cb98-eb0f-41fe-a66e-3a1c3ffc8e01",
   "metadata": {},
   "outputs": [],
   "source": [
    "query_and_download(aoi_path, stac_catalog, query_range, download_bands, \n",
    "                   start_date, end_date, spatial_cover, orbit, save_path_rtc, \n",
    "                   noData=noData, collection=collection, crs=crs, clip_to_aoi=clip_to_aoi)"
   ]
  },
  {
   "cell_type": "code",
   "execution_count": null,
   "id": "68006051-fa61-444f-82c0-c637240b8297",
   "metadata": {},
   "outputs": [],
   "source": []
  }
 ],
 "metadata": {
  "kernelspec": {
   "display_name": "Python 3 (ipykernel)",
   "language": "python",
   "name": "python3"
  },
  "language_info": {
   "codemirror_mode": {
    "name": "ipython",
    "version": 3
   },
   "file_extension": ".py",
   "mimetype": "text/x-python",
   "name": "python",
   "nbconvert_exporter": "python",
   "pygments_lexer": "ipython3",
   "version": "3.11.8"
  }
 },
 "nbformat": 4,
 "nbformat_minor": 5
}
