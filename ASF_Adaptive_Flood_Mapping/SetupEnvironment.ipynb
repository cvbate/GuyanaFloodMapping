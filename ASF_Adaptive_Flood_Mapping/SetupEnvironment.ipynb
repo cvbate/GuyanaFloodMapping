{
 "cells": [
  {
   "cell_type": "markdown",
   "id": "ed423ec8-d1fb-48da-9379-f181df7445eb",
   "metadata": {},
   "source": [
    "------------- Steps for creating and activating an environment. ----------------\n",
    "\n",
    "THESE CODES ARE TO BE RUN IN THE TERMINAL <br>\n",
    "\n",
    "This command directs Conda to create an environment according to the \n",
    "specifications in the .yml file located at /home/jovyan/configs/ <br>\n",
    "\n",
    "This info is also in the README of the repository.\n",
    "\n"
   ]
  },
  {
   "cell_type": "code",
   "execution_count": 1,
   "id": "b355ba5f-1792-4f17-b942-a7605d99e907",
   "metadata": {},
   "outputs": [],
   "source": [
    "# CREATE ENVIRONMENTS:\n",
    "\n",
    "# Run in the terminal\n",
    "\n",
    "# Run for Big_Hand_notebook_adapted\n",
    "conda env create -f /home/jovyan/GuyanaFlooding/Environment_Configs/locked_hydrosar_env.yml\n",
    "\n",
    "# Run for ASF_Flood_mapping\n",
    "#conda env create -f /home/jovyan/GuyanaFlooding/Environment_Configs/SAR_flooding_env.yml\n"
   ]
  },
  {
   "cell_type": "markdown",
   "id": "1f183828-3e1f-403e-8857-7c03cc3dfab1",
   "metadata": {},
   "source": [
    "Steps to Follow After Creating the Environment\n",
    "\n",
    "Step 1: Activate the Environment"
   ]
  },
  {
   "cell_type": "code",
   "execution_count": null,
   "id": "4707fc78-9016-4a68-a747-62ab82766748",
   "metadata": {},
   "outputs": [],
   "source": [
    "# Run for Big_Hand_notebook_adapted\n",
    "conda activate hydrosar\n",
    "\n",
    "# Run for ASF_Flood_mapping\n",
    "#conda activate asf-jupyter-notebook\n",
    "#conda activate /home/jovyan/.local/envs/asf-jupyter-notebook #option 2\n"
   ]
  },
  {
   "cell_type": "markdown",
   "id": "1979d4ff-755d-444f-b216-db6a693b85f9",
   "metadata": {},
   "source": [
    "Step 2: Install IPython Kernel\n",
    "With the environment activated, install ipykernel to enable using this environment as a Jupyter kernel:"
   ]
  },
  {
   "cell_type": "code",
   "execution_count": null,
   "id": "8a55add3-fed3-446d-97de-00efcb8a5d46",
   "metadata": {},
   "outputs": [],
   "source": [
    "# Run for both, to be able to choose kernel to run with your notebook.\n",
    "conda install ipykernel -y"
   ]
  },
  {
   "cell_type": "markdown",
   "id": "405fdc5c-8c03-4998-ad5f-38d08dda7a8a",
   "metadata": {},
   "source": [
    "Step 3: Register the Kernel\n",
    "After installing ipykernel, register the environment as a Jupyter kernel. This step is not necessary"
   ]
  },
  {
   "cell_type": "code",
   "execution_count": null,
   "id": "b2d7019e-88fc-4e83-99db-1193aa7d00df",
   "metadata": {},
   "outputs": [],
   "source": [
    "# Run for Big_Hand_notebook_adapted\n",
    "python -m ipykernel install --user --name=hydrosar --display-name=\"hydrosar\"\n",
    "\n",
    "# Run for ASF_Flood_mapping\n",
    "#python -m ipykernel install --user --name=asf-jupyter-notebook --display-name=\"SAR_Flooding\""
   ]
  }
 ],
 "metadata": {
  "kernelspec": {
   "display_name": "Python 3 (ipykernel)",
   "language": "python",
   "name": "python3"
  },
  "language_info": {
   "codemirror_mode": {
    "name": "ipython",
    "version": 3
   },
   "file_extension": ".py",
   "mimetype": "text/x-python",
   "name": "python",
   "nbconvert_exporter": "python",
   "pygments_lexer": "ipython3",
   "version": "3.11.8"
  }
 },
 "nbformat": 4,
 "nbformat_minor": 5
}
